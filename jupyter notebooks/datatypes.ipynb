{
 "cells": [
  {
   "cell_type": "markdown",
   "metadata": {},
   "source": [
    "### 1. **Integer (`int`)**\n",
    "\n",
    "- **Description**: Represents whole numbers.\n",
    "- **Operations**: Addition, subtraction, multiplication, division, modulus, exponentiation, floor division.\n",
    "\n",
    "**Code Snippets**:\n"
   ]
  },
  {
   "cell_type": "code",
   "execution_count": 1,
   "metadata": {},
   "outputs": [
    {
     "name": "stdout",
     "output_type": "stream",
     "text": [
      "13\n",
      "7\n",
      "30\n",
      "3.3333333333333335\n",
      "1\n",
      "1000\n",
      "3\n"
     ]
    }
   ],
   "source": [
    "a = 10\n",
    "b = 3\n",
    "\n",
    "# Addition\n",
    "print(a + b)  # Output: 13\n",
    "\n",
    "# Subtraction\n",
    "print(a - b)  # Output: 7\n",
    "\n",
    "# Multiplication\n",
    "print(a * b)  # Output: 30\n",
    "\n",
    "# Division\n",
    "print(a / b)  # Output: 3.3333333333333335\n",
    "\n",
    "# Modulus\n",
    "print(a % b)  # Output: 1\n",
    "\n",
    "# Exponentiation\n",
    "print(a ** b)  # Output: 1000\n",
    "\n",
    "# Floor Division\n",
    "print(a // b)  # Output: 3"
   ]
  },
  {
   "cell_type": "markdown",
   "metadata": {},
   "source": [
    "### 2. **Float (`float`)**\n",
    "\n",
    "- **Description**: Represents real numbers (decimal values).\n",
    "- **Operations**: Same as integers, but results can be floating-point numbers.\n",
    "\n",
    "**Code Snippets**:\n"
   ]
  },
  {
   "cell_type": "code",
   "execution_count": 2,
   "metadata": {},
   "outputs": [
    {
     "name": "stdout",
     "output_type": "stream",
     "text": [
      "14.7\n",
      "6.3\n",
      "44.1\n",
      "2.5\n",
      "2.0999999999999996\n",
      "19453.37936226984\n",
      "2.0\n"
     ]
    }
   ],
   "source": [
    "x = 10.5\n",
    "y = 4.2\n",
    "\n",
    "# Addition\n",
    "print(x + y)  # Output: 14.7\n",
    "\n",
    "# Subtraction\n",
    "print(x - y)  # Output: 6.3\n",
    "\n",
    "# Multiplication\n",
    "print(x * y)  # Output: 44.1\n",
    "\n",
    "# Division\n",
    "print(x / y)  # Output: 2.5\n",
    "\n",
    "# Modulus\n",
    "print(x % y)  # Output: 2.1\n",
    "\n",
    "# Exponentiation\n",
    "print(x ** y)  # Output: 86158.00878830031\n",
    "\n",
    "# Floor Division\n",
    "print(x // y)  # Output: 2.0\n"
   ]
  },
  {
   "cell_type": "markdown",
   "metadata": {},
   "source": [
    "### 3. **String (`str`)**\n",
    "\n",
    "- **Description**: Represents a sequence of characters.\n",
    "- **Operations**: Concatenation, repetition, indexing, slicing, methods like `upper()`, `lower()`, `find()`, `replace()`.\n",
    "\n",
    "**Code Snippets**:"
   ]
  },
  {
   "cell_type": "code",
   "execution_count": null,
   "metadata": {},
   "outputs": [],
   "source": [
    "s1 = \"Hello\"\n",
    "s2 = \"World\"\n",
    "\n",
    "# Concatenation\n",
    "print(s1 + \" \" + s2)  # Output: Hello World\n",
    "\n",
    "# Repetition\n",
    "print(s1 * 3)  # Output: HelloHelloHello\n",
    "\n",
    "# Indexing\n",
    "print(s1[1])  # Output: e\n",
    "\n",
    "# Slicing\n",
    "print(s1[1:4])  # Output: ell\n",
    "\n",
    "# Uppercase\n",
    "print(s1.upper())  # Output: HELLO\n",
    "\n",
    "# Lowercase\n",
    "print(s2.lower())  # Output: world\n",
    "\n",
    "# Find substring\n",
    "print(s1.find(\"l\"))  # Output: 2\n",
    "\n",
    "# Replace substring\n",
    "print(s1.replace(\"l\", \"x\"))  # Output: Hexxo\n"
   ]
  },
  {
   "cell_type": "markdown",
   "metadata": {},
   "source": [
    "### 4. **List (`list`)**\n",
    "\n",
    "- **Description**: Ordered, mutable collection of items.\n",
    "- **Operations**: Indexing, slicing, appending, extending, inserting, removing, popping, sorting, reversing.\n",
    "\n",
    "**Code Snippets**:"
   ]
  },
  {
   "cell_type": "code",
   "execution_count": null,
   "metadata": {},
   "outputs": [],
   "source": [
    "numbers = [1, 2, 3, 4, 5]\n",
    "\n",
    "# Indexing\n",
    "print(numbers[2])  # Output: 3\n",
    "\n",
    "# Slicing\n",
    "print(numbers[1:3])  # Output: [2, 3]\n",
    "\n",
    "# Appending\n",
    "numbers.append(6)\n",
    "print(numbers)  # Output: [1, 2, 3, 4, 5, 6]\n",
    "\n",
    "# Extending\n",
    "numbers.extend([7, 8])\n",
    "print(numbers)  # Output: [1, 2, 3, 4, 5, 6, 7, 8]\n",
    "\n",
    "# Inserting\n",
    "numbers.insert(2, 10)\n",
    "print(numbers)  # Output: [1, 2, 10, 3, 4, 5, 6, 7, 8]\n",
    "\n",
    "# Removing\n",
    "numbers.remove(10)\n",
    "print(numbers)  # Output: [1, 2, 3, 4, 5, 6, 7, 8]\n",
    "\n",
    "# Popping\n",
    "popped_item = numbers.pop()\n",
    "print(popped_item)  # Output: 8\n",
    "\n",
    "# Sorting\n",
    "numbers.sort()\n",
    "print(numbers)  # Output: [1, 2, 3, 4, 5, 6, 7]\n",
    "\n",
    "# Reversing\n",
    "numbers.reverse()\n",
    "print(numbers)  # Output: [7, 6, 5, 4, 3, 2, 1]\n"
   ]
  },
  {
   "cell_type": "markdown",
   "metadata": {},
   "source": [
    "### 5. **Tuple (`tuple`)**\n",
    "\n",
    "- **Description**: Ordered, immutable collection of items.\n",
    "- **Operations**: Indexing, slicing, concatenation, repetition.\n",
    "\n",
    "**Code Snippets**:\n"
   ]
  },
  {
   "cell_type": "code",
   "execution_count": null,
   "metadata": {},
   "outputs": [],
   "source": [
    "t = (1, 2, 3, 4, 5)\n",
    "\n",
    "# Indexing\n",
    "print(t[1])  # Output: 2\n",
    "\n",
    "# Slicing\n",
    "print(t[1:3])  # Output: (2, 3)\n",
    "\n",
    "# Concatenation\n",
    "t2 = t + (6, 7)\n",
    "print(t2)  # Output: (1, 2, 3, 4, 5, 6, 7)\n",
    "\n",
    "# Repetition\n",
    "print(t * 2)  # Output: (1, 2, 3, 4, 5, 1, 2, 3, 4, 5)\n"
   ]
  },
  {
   "cell_type": "markdown",
   "metadata": {},
   "source": [
    "### 6. **Dictionary (`dict`)**\n",
    "\n",
    "- **Description**: Unordered collection of key-value pairs.\n",
    "- **Operations**: Adding, updating, deleting keys, accessing values, methods like `keys()`, `values()`, `items()`.\n",
    "\n",
    "**Code Snippets**:"
   ]
  },
  {
   "cell_type": "code",
   "execution_count": null,
   "metadata": {},
   "outputs": [],
   "source": [
    "d = {'a': 1, 'b': 2, 'c': 3}\n",
    "\n",
    "# Accessing values\n",
    "print(d['a'])  # Output: 1\n",
    "\n",
    "# Adding a new key\n",
    "d['d'] = 4\n",
    "print(d)  # Output: {'a': 1, 'b': 2, 'c': 3, 'd': 4}\n",
    "\n",
    "# Updating a value\n",
    "d['a'] = 10\n",
    "print(d)  # Output: {'a': 10, 'b': 2, 'c': 3, 'd': 4}\n",
    "\n",
    "# Removing a key\n",
    "del d['b']\n",
    "print(d)  # Output: {'a': 10, 'c': 3, 'd': 4}\n",
    "\n",
    "# Getting keys\n",
    "print(d.keys())  # Output: dict_keys(['a', 'c', 'd'])\n",
    "\n",
    "# Getting values\n",
    "print(d.values())  # Output: dict_values([10, 3, 4])\n",
    "\n",
    "# Getting items\n",
    "print(d.items())  # Output: dict_items([('a', 10), ('c', 3), ('d', 4)])\n"
   ]
  },
  {
   "cell_type": "markdown",
   "metadata": {},
   "source": [
    "### 7. **Set (`set`)**\n",
    "\n",
    "- **Description**: Unordered collection of unique items.\n",
    "- **Operations**: Adding, removing elements, union, intersection, difference, symmetric difference.\n",
    "\n",
    "**Code Snippets**:\n"
   ]
  },
  {
   "cell_type": "code",
   "execution_count": null,
   "metadata": {},
   "outputs": [],
   "source": [
    "s1 = {1, 2, 3, 4}\n",
    "s2 = {3, 4, 5, 6}\n",
    "\n",
    "# Adding an element\n",
    "s1.add(5)\n",
    "print(s1)  # Output: {1, 2, 3, 4, 5}\n",
    "\n",
    "# Removing an element\n",
    "s1.remove(5)\n",
    "print(s1)  # Output: {1, 2, 3, 4}\n",
    "\n",
    "# Union\n",
    "print(s1 | s2)  # Output: {1, 2, 3, 4, 5, 6}\n",
    "\n",
    "# Intersection\n",
    "print(s1 & s2)  # Output: {3, 4}\n",
    "\n",
    "# Difference\n",
    "print(s1 - s2)  # Output: {1, 2}\n",
    "\n",
    "# Symmetric Difference\n",
    "print(s1 ^ s2)  # Output: {1, 2, 5, 6}"
   ]
  },
  {
   "cell_type": "markdown",
   "metadata": {},
   "source": [
    "### 8. **Boolean (`bool`)**\n",
    "\n",
    "- **Description**: Represents `True` or `False`.\n",
    "- **Operations**: Logical operations (`and`, `or`, `not`).\n",
    "\n",
    "**Code Snippets**:"
   ]
  },
  {
   "cell_type": "code",
   "execution_count": 3,
   "metadata": {},
   "outputs": [
    {
     "name": "stdout",
     "output_type": "stream",
     "text": [
      "False\n",
      "True\n",
      "False\n"
     ]
    }
   ],
   "source": [
    "a = True\n",
    "b = False\n",
    "\n",
    "# Logical AND\n",
    "print(a and b)  # Output: False\n",
    "\n",
    "# Logical OR\n",
    "print(a or b)  # Output: True\n",
    "\n",
    "# Logical NOT\n",
    "print(not a)  # Output: False\n"
   ]
  },
  {
   "cell_type": "markdown",
   "metadata": {},
   "source": [
    "### 9. **None Type (`NoneType`)**\n",
    "\n",
    "- **Description**: Represents the absence of a value or a null value.\n",
    "- **Operations**: Typically used for default values in functions or to reset variables.\n",
    "\n",
    "**Code Snippets**:"
   ]
  },
  {
   "cell_type": "code",
   "execution_count": null,
   "metadata": {},
   "outputs": [],
   "source": [
    "x = None\n",
    "\n",
    "# Check if x is None\n",
    "if x is None:\n",
    "    print(\"x is None\")  # Output: x is None\n",
    "\n",
    "# Assign a value\n",
    "x = 10\n",
    "print(x)  # Output: 10\n"
   ]
  }
 ],
 "metadata": {
  "kernelspec": {
   "display_name": "pyenv",
   "language": "python",
   "name": "python3"
  },
  "language_info": {
   "codemirror_mode": {
    "name": "ipython",
    "version": 3
   },
   "file_extension": ".py",
   "mimetype": "text/x-python",
   "name": "python",
   "nbconvert_exporter": "python",
   "pygments_lexer": "ipython3",
   "version": "3.11.3"
  }
 },
 "nbformat": 4,
 "nbformat_minor": 2
}
